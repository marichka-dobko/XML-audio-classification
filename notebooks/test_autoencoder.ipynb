{
 "cells": [
  {
   "cell_type": "code",
   "execution_count": 8,
   "metadata": {},
   "outputs": [],
   "source": [
    "import argparse\n",
    "import numpy as np\n",
    "import os\n",
    "import sys\n",
    "import matplotlib.pyplot as plt\n",
    "import glob\n",
    "\n",
    "from dcase_models.model.container import *\n",
    "from dcase_models.data.data_generator import DataGenerator\n",
    "from dcase_models.data.features import MelSpectrogram\n",
    "from dcase_models.data.datasets import UrbanSound8k\n",
    "from dcase_models.util.files import load_json, mkdir_if_not_exists, save_pickle, load_pickle\n",
    "from dcase_models.util.data import evaluation_setup\n",
    "\n",
    "sys.path.append('../')\n",
    "from apnet.model import *\n",
    "from apnet.layers import PrototypeLayer, WeightedSum\n",
    "from apnet.datasets import GoogleSpeechCommands, MedleySolosDb\n",
    "\n",
    "os.environ[\"CUDA_VISIBLE_DEVICES\"] = \"0\""
   ]
  },
  {
   "cell_type": "code",
   "execution_count": 4,
   "metadata": {},
   "outputs": [],
   "source": [
    "datasets_dict = {\n",
    "    'UrbanSound8k': UrbanSound8k,\n",
    "    'MedleySolosDb': MedleySolosDb,\n",
    "    'GoogleSpeechCommands': GoogleSpeechCommands\n",
    "}"
   ]
  },
  {
   "cell_type": "code",
   "execution_count": 5,
   "metadata": {},
   "outputs": [],
   "source": [
    "model_name = 'APNet'\n",
    "features_name = 'MelSpectrogram'"
   ]
  },
  {
   "cell_type": "code",
   "execution_count": 9,
   "metadata": {},
   "outputs": [
    {
     "ename": "ValueError",
     "evalue": "The supplied matrices should be of shape (nsrc, nsampl) but reference_sources.shape[0] = 256 and estimated_sources.shape[0] = 256 which is greater than mir_eval.separation.MAX_SOURCES = 100.  To override this check, set mir_eval.separation.MAX_SOURCES to a larger value.",
     "output_type": "error",
     "traceback": [
      "\u001b[0;31m---------------------------------------------------------------------------\u001b[0m",
      "\u001b[0;31mValueError\u001b[0m                                Traceback (most recent call last)",
      "\u001b[0;32m<ipython-input-9-b4a5dd268b06>\u001b[0m in \u001b[0;36m<module>\u001b[0;34m\u001b[0m\n\u001b[1;32m     48\u001b[0m             \u001b[0mreconstructions\u001b[0m \u001b[0;34m=\u001b[0m \u001b[0mscaler\u001b[0m\u001b[0;34m.\u001b[0m\u001b[0minverse_transform\u001b[0m\u001b[0;34m(\u001b[0m\u001b[0mreconstructions\u001b[0m\u001b[0;34m)\u001b[0m\u001b[0;34m\u001b[0m\u001b[0;34m\u001b[0m\u001b[0m\n\u001b[1;32m     49\u001b[0m \u001b[0;34m\u001b[0m\u001b[0m\n\u001b[0;32m---> 50\u001b[0;31m             \u001b[0mprint\u001b[0m\u001b[0;34m(\u001b[0m\u001b[0mseparation\u001b[0m\u001b[0;34m.\u001b[0m\u001b[0mbss_eval_images\u001b[0m\u001b[0;34m(\u001b[0m\u001b[0mX\u001b[0m\u001b[0;34m,\u001b[0m \u001b[0mreconstructions\u001b[0m\u001b[0;34m)\u001b[0m\u001b[0;34m)\u001b[0m\u001b[0;34m\u001b[0m\u001b[0;34m\u001b[0m\u001b[0m\n\u001b[0m\u001b[1;32m     51\u001b[0m \u001b[0;34m\u001b[0m\u001b[0m\n\u001b[1;32m     52\u001b[0m             \u001b[0mmse\u001b[0m \u001b[0;34m+=\u001b[0m \u001b[0mnp\u001b[0m\u001b[0;34m.\u001b[0m\u001b[0mmean\u001b[0m\u001b[0;34m(\u001b[0m\u001b[0;34m(\u001b[0m\u001b[0mreconstructions\u001b[0m\u001b[0;34m-\u001b[0m\u001b[0mX\u001b[0m\u001b[0;34m)\u001b[0m\u001b[0;34m**\u001b[0m\u001b[0;36m2\u001b[0m\u001b[0;34m)\u001b[0m\u001b[0;34m\u001b[0m\u001b[0;34m\u001b[0m\u001b[0m\n",
      "\u001b[0;32m~/anaconda3/envs/dcase/lib/python3.6/site-packages/mir_eval/separation.py\u001b[0m in \u001b[0;36mbss_eval_images\u001b[0;34m(reference_sources, estimated_sources, compute_permutation)\u001b[0m\n\u001b[1;32m    421\u001b[0m     \u001b[0;31m# we will ensure input doesn't have more than 3 dimensions in validate\u001b[0m\u001b[0;34m\u001b[0m\u001b[0;34m\u001b[0m\u001b[0;34m\u001b[0m\u001b[0m\n\u001b[1;32m    422\u001b[0m \u001b[0;34m\u001b[0m\u001b[0m\n\u001b[0;32m--> 423\u001b[0;31m     \u001b[0mvalidate\u001b[0m\u001b[0;34m(\u001b[0m\u001b[0mreference_sources\u001b[0m\u001b[0;34m,\u001b[0m \u001b[0mestimated_sources\u001b[0m\u001b[0;34m)\u001b[0m\u001b[0;34m\u001b[0m\u001b[0;34m\u001b[0m\u001b[0m\n\u001b[0m\u001b[1;32m    424\u001b[0m     \u001b[0;31m# If empty matrices were supplied, return empty lists (special case)\u001b[0m\u001b[0;34m\u001b[0m\u001b[0;34m\u001b[0m\u001b[0;34m\u001b[0m\u001b[0m\n\u001b[1;32m    425\u001b[0m     \u001b[0;32mif\u001b[0m \u001b[0mreference_sources\u001b[0m\u001b[0;34m.\u001b[0m\u001b[0msize\u001b[0m \u001b[0;34m==\u001b[0m \u001b[0;36m0\u001b[0m \u001b[0;32mor\u001b[0m \u001b[0mestimated_sources\u001b[0m\u001b[0;34m.\u001b[0m\u001b[0msize\u001b[0m \u001b[0;34m==\u001b[0m \u001b[0;36m0\u001b[0m\u001b[0;34m:\u001b[0m\u001b[0;34m\u001b[0m\u001b[0;34m\u001b[0m\u001b[0m\n",
      "\u001b[0;32m~/anaconda3/envs/dcase/lib/python3.6/site-packages/mir_eval/separation.py\u001b[0m in \u001b[0;36mvalidate\u001b[0;34m(reference_sources, estimated_sources)\u001b[0m\n\u001b[1;32m    119\u001b[0m                          'larger value.'.format(reference_sources.shape[0],\n\u001b[1;32m    120\u001b[0m                                                 \u001b[0mestimated_sources\u001b[0m\u001b[0;34m.\u001b[0m\u001b[0mshape\u001b[0m\u001b[0;34m[\u001b[0m\u001b[0;36m0\u001b[0m\u001b[0;34m]\u001b[0m\u001b[0;34m,\u001b[0m\u001b[0;34m\u001b[0m\u001b[0;34m\u001b[0m\u001b[0m\n\u001b[0;32m--> 121\u001b[0;31m                                                 MAX_SOURCES))\n\u001b[0m\u001b[1;32m    122\u001b[0m \u001b[0;34m\u001b[0m\u001b[0m\n\u001b[1;32m    123\u001b[0m \u001b[0;34m\u001b[0m\u001b[0m\n",
      "\u001b[0;31mValueError\u001b[0m: The supplied matrices should be of shape (nsrc, nsampl) but reference_sources.shape[0] = 256 and estimated_sources.shape[0] = 256 which is greater than mir_eval.separation.MAX_SOURCES = 100.  To override this check, set mir_eval.separation.MAX_SOURCES to a larger value."
     ]
    }
   ],
   "source": [
    "for dataset_name in datasets_dict.keys():\n",
    "\n",
    "    # Get parameters\n",
    "    exp_path = '../experiments'\n",
    "    model_folder = os.path.join(exp_path, dataset_name, model_name)\n",
    "    parameters_file = os.path.join(model_folder, 'config.json')\n",
    "    params = load_json(parameters_file)\n",
    "    params_dataset = params['datasets'][dataset_name]\n",
    "    params_features = params['features'][features_name]\n",
    "    params_model = params['models'][model_name]\n",
    "    \n",
    "    dataset_path = os.path.join(exp_path, params_dataset['dataset_path'])\n",
    "    dataset = datasets_dict[dataset_name](dataset_path)\n",
    "    \n",
    "    features = MelSpectrogram(**params_features)\n",
    "    features.check_if_extracted(dataset)\n",
    "    \n",
    "    mse = 0\n",
    "    n = 0\n",
    "\n",
    "    fold_list = dataset.fold_list if dataset_name == 'UrbanSound8k' else ['test']\n",
    "\n",
    "    for fold_name in fold_list:\n",
    "        exp_folder = os.path.join(model_folder, fold_name)\n",
    "        scaler = load_pickle(os.path.join(exp_folder, 'scaler.pickle'))\n",
    "\n",
    "        model_container = APNet(\n",
    "            model=None, model_path=exp_folder, \n",
    "            custom_objects={\n",
    "                'PrototypeLayer': PrototypeLayer,\n",
    "                'WeightedSum': WeightedSum\n",
    "            }\n",
    "        )\n",
    "        model_container.load_model_weights(exp_folder)\n",
    "\n",
    "        data_gen = DataGenerator(\n",
    "            dataset, features, folds=[fold_name],\n",
    "            batch_size=params['train']['batch_size'],\n",
    "            shuffle=False, train=True, scaler=scaler\n",
    "        )\n",
    "\n",
    "        for batch in range(len(data_gen)):\n",
    "            X, Y = data_gen.get_data_batch(batch)\n",
    "\n",
    "            reconstructions = model_container.model.predict(X)[1]\n",
    "\n",
    "            X = scaler.inverse_transform(X)\n",
    "            reconstructions = scaler.inverse_transform(reconstructions)\n",
    "            \n",
    "            mse += np.mean((reconstructions-X)**2)\n",
    "            n += 1\n",
    "\n",
    "    print(dataset_name, np.sqrt(mse/n))"
   ]
  }
 ],
 "metadata": {
  "kernelspec": {
   "display_name": "Python 3",
   "language": "python",
   "name": "python3"
  },
  "language_info": {
   "codemirror_mode": {
    "name": "ipython",
    "version": 3
   },
   "file_extension": ".py",
   "mimetype": "text/x-python",
   "name": "python",
   "nbconvert_exporter": "python",
   "pygments_lexer": "ipython3",
   "version": "3.6.10"
  }
 },
 "nbformat": 4,
 "nbformat_minor": 4
}
