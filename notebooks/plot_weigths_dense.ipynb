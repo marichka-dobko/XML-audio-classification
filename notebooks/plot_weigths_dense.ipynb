{
 "cells": [
  {
   "cell_type": "code",
   "execution_count": 2,
   "metadata": {},
   "outputs": [],
   "source": [
    "import argparse\n",
    "import numpy as np\n",
    "import os\n",
    "import sys\n",
    "import matplotlib.pyplot as plt\n",
    "import glob\n",
    "\n",
    "from dcase_models.model.container import *\n",
    "from dcase_models.data.data_generator import DataGenerator\n",
    "from dcase_models.data.features import MelSpectrogram\n",
    "from dcase_models.data.datasets import UrbanSound8k\n",
    "from dcase_models.util.files import load_json, mkdir_if_not_exists, save_pickle, load_pickle\n",
    "from dcase_models.util.data import evaluation_setup\n",
    "\n",
    "sys.path.append('../')\n",
    "from apnet.model import *\n",
    "from apnet.layers import PrototypeLayer, WeightedSum\n",
    "\n",
    "os.environ[\"CUDA_VISIBLE_DEVICES\"] = \"1\""
   ]
  },
  {
   "cell_type": "code",
   "execution_count": 3,
   "metadata": {},
   "outputs": [],
   "source": [
    "dataset_name = 'UrbanSound8k'\n",
    "model_name = 'APNet'\n",
    "features_name = 'MelSpectrogram'\n",
    "fold_name = 'fold8'"
   ]
  },
  {
   "cell_type": "code",
   "execution_count": 4,
   "metadata": {},
   "outputs": [],
   "source": [
    "# Get parameters\n",
    "exp_path = '../experiments'\n",
    "model_folder = os.path.join(exp_path, dataset_name, model_name)\n",
    "parameters_file = os.path.join(model_folder, 'config.json')\n",
    "params = load_json(parameters_file)\n",
    "params_dataset = params['datasets'][dataset_name]\n",
    "params_features = params['features'][features_name]\n",
    "params_model = params['models'][model_name]"
   ]
  },
  {
   "cell_type": "code",
   "execution_count": 5,
   "metadata": {},
   "outputs": [
    {
     "data": {
      "text/plain": [
       "True"
      ]
     },
     "execution_count": 5,
     "metadata": {},
     "output_type": "execute_result"
    }
   ],
   "source": [
    "dataset_path = os.path.join(exp_path, params_dataset['dataset_path'])\n",
    "dataset = UrbanSound8k(dataset_path)\n",
    "dataset.check_if_downloaded()"
   ]
  },
  {
   "cell_type": "code",
   "execution_count": 6,
   "metadata": {},
   "outputs": [],
   "source": [
    "features = MelSpectrogram(**params_features)\n",
    "features.check_if_extracted(dataset)\n",
    "features.extract(dataset)"
   ]
  },
  {
   "cell_type": "code",
   "execution_count": 7,
   "metadata": {},
   "outputs": [
    {
     "name": "stdout",
     "output_type": "stream",
     "text": [
      "__________________________________________________________________________________________________\n",
      "Layer (type)                    Output Shape         Param #     Connected to                     \n",
      "==================================================================================================\n",
      "input (InputLayer)              (None, 84, 128)      0                                            \n",
      "__________________________________________________________________________________________________\n",
      "encoder (Model)                 [(None, 21, 32, 32), 52096       input[0][0]                      \n",
      "__________________________________________________________________________________________________\n",
      "features (Lambda)               (None, 21, 32, 32)   0           encoder[1][0]                    \n",
      "__________________________________________________________________________________________________\n",
      "prototype_distances (PrototypeL (None, 50, 32)       1075200     features[0][0]                   \n",
      "__________________________________________________________________________________________________\n",
      "similarity_local (Lambda)       (None, 50, 32)       0           prototype_distances[0][0]        \n",
      "__________________________________________________________________________________________________\n",
      "mean (WeightedSum)              (None, 50)           1600        similarity_local[0][0]           \n",
      "__________________________________________________________________________________________________\n",
      "logits (Dense)                  (None, 10)           500         mean[0][0]                       \n",
      "__________________________________________________________________________________________________\n",
      "out (Activation)                (None, 10)           0           logits[0][0]                     \n",
      "__________________________________________________________________________________________________\n",
      "decoder (Model)                 (None, 84, 128)      52065       encoder[1][0]                    \n",
      "                                                                 encoder[1][1]                    \n",
      "                                                                 encoder[1][2]                    \n",
      "__________________________________________________________________________________________________\n",
      "lambda_1 (Lambda)               (None, 50, 32)       0           prototype_distances[0][0]        \n",
      "==================================================================================================\n",
      "Total params: 1,181,461\n",
      "Trainable params: 1,181,461\n",
      "Non-trainable params: 0\n",
      "__________________________________________________________________________________________________\n"
     ]
    }
   ],
   "source": [
    "exp_folder = os.path.join(model_folder, fold_name)\n",
    "scaler = load_pickle(os.path.join(exp_folder, 'scaler.pickle'))\n",
    "\n",
    "model_container = APNet(\n",
    "    model=None, model_path=exp_folder, \n",
    "    custom_objects={\n",
    "        'PrototypeLayer': PrototypeLayer,\n",
    "        'WeightedSum': WeightedSum\n",
    "    },\n",
    "    metrics=['classification'],\n",
    "    **params['models'][model_name]['model_arguments']\n",
    ")\n",
    "model_container.load_model_weights(exp_folder)\n",
    "model_container.model.summary()"
   ]
  },
  {
   "cell_type": "code",
   "execution_count": 8,
   "metadata": {},
   "outputs": [],
   "source": [
    "folds_train, folds_val, _ = evaluation_setup(\n",
    "    fold_name, dataset.fold_list,\n",
    "    params_dataset['evaluation_mode'],\n",
    "    use_validate_set=True\n",
    ")\n",
    "data_gen = DataGenerator(\n",
    "    dataset, features, folds=folds_train,\n",
    "    batch_size=params['train']['batch_size'],\n",
    "    shuffle=False, train=True, scaler=scaler\n",
    ")"
   ]
  },
  {
   "cell_type": "code",
   "execution_count": 9,
   "metadata": {},
   "outputs": [
    {
     "name": "stdout",
     "output_type": "stream",
     "text": [
      "(7110, 84, 128) (7110, 10)\n"
     ]
    }
   ],
   "source": [
    "X, Y = data_gen.get_data()\n",
    "print(X.shape, Y.shape)"
   ]
  },
  {
   "cell_type": "code",
   "execution_count": 10,
   "metadata": {},
   "outputs": [
    {
     "name": "stdout",
     "output_type": "stream",
     "text": [
      "Getting prototypes (spectrograms)...\n",
      "Done!\n",
      "Converting to audio...\n",
      "Done!\n"
     ]
    }
   ],
   "source": [
    "#prototypes = load_pickle(os.path.join(exp_folder, 'prototypes.pickle'))\n",
    "model_container.get_prototypes(X)\n",
    "prototypes = model_container.prototypes\n",
    "prototypes.sort()"
   ]
  },
  {
   "cell_type": "code",
   "execution_count": 18,
   "metadata": {},
   "outputs": [
    {
     "name": "stdout",
     "output_type": "stream",
     "text": [
      "(50, 10)\n"
     ]
    },
    {
     "data": {
      "image/png": "[encoded data removed]",
      "text/plain": [
       "<Figure size 864x432 with 2 Axes>"
      ]
     },
     "metadata": {
      "needs_background": "light"
     },
     "output_type": "display_data"
    }
   ],
   "source": [
    "plt.rcParams.update({'font.size': 15, 'font.family': 'serif'})\n",
    "\n",
    "class_names = (['air\\nconditioner', 'car\\nhorn', 'children\\nplaying',\n",
    "           'dog\\nbark', 'drilling', 'engine\\nidling', 'gun\\nshot',\n",
    "           'jack-\\nhammer', 'siren', 'street\\nmusic'])  \n",
    "class_names_av = ['AC', 'CH', 'CP', 'DB', 'DR', 'EI', 'GS', 'JA', 'SI', 'SM']\n",
    "n_classes = len(dataset.label_list)\n",
    "#model_path = os.path.join(args.models[0], args.dataset, args.fold)\n",
    "#prototypes = load_pickle(os.path.join(model_path, 'prototypes.pickle'))\n",
    "weights = prototypes.W_dense\n",
    "classes_sort = prototypes.classes   \n",
    "print(weights.shape)\n",
    "\n",
    "class_sort_diff = np.diff(classes_sort)\n",
    "class_sort_diff = np.concatenate((class_sort_diff,np.ones(1,)*10),axis=0)\n",
    "class_sort_diff_ixs = np.where(class_sort_diff)[0]\n",
    "class_sort_diff_ixs = np.concatenate((np.zeros(1,),class_sort_diff_ixs),axis=0)\n",
    "\n",
    "fig, ax = plt.subplots(figsize=(12,6))\n",
    "im = ax.imshow(weights.T,origin='lower',)\n",
    "ax.set_xlabel('prototypes sorted by predicted class number')\n",
    "ax.set_ylabel('class')\n",
    "ax.set_xticks(range(len(classes_sort)),minor=True)\n",
    "ax.set_xticklabels([])\n",
    "ax.set_xticks(class_sort_diff_ixs[:10] + np.diff(class_sort_diff_ixs)/2.)\n",
    "ax.set_yticks(np.arange(n_classes),minor=False)\n",
    "ax.set_yticklabels(class_names_av)\n",
    "for j in range(1,len(class_sort_diff_ixs)-1):\n",
    "    plt.plot([class_sort_diff_ixs[j]+0.5, class_sort_diff_ixs[j]+0.5],[-0.5, 9.5],'w--',alpha=0.5)\n",
    "ax.set_aspect(2)\n",
    "ax.set_xticklabels(class_names,minor=False)\n",
    "for tick in ax.xaxis.get_major_ticks():\n",
    "    tick.label1.set_horizontalalignment('center')\n",
    "plt.tick_params(axis='x',which='major',top=False,bottom=False)\n",
    "plt.tick_params(axis='x',which='minor',bottom=True,length=3)\n",
    "#fig.colorbar(im,orientation='horizontal')\n",
    "#plt.tight_layout()\n",
    "\n",
    "fig.subplots_adjust(right=0.88)\n",
    "cbar_ax = fig.add_axes([0.9, 0.2, 0.02, 0.6])\n",
    "fig.colorbar(im, cax=cbar_ax)\n",
    "\n",
    "#plt.tight_layout()\n",
    "plt.savefig('images/dense_weigths.png', dpi=300, bbox_inches='tight', pad_inches=0)\n",
    "plt.show()  "
   ]
  }
 ],
 "metadata": {
  "kernelspec": {
   "display_name": "Python 3",
   "language": "python",
   "name": "python3"
  },
  "language_info": {
   "codemirror_mode": {
    "name": "ipython",
    "version": 3
   },
   "file_extension": ".py",
   "mimetype": "text/x-python",
   "name": "python",
   "nbconvert_exporter": "python",
   "pygments_lexer": "ipython3",
   "version": "3.6.10"
  }
 },
 "nbformat": 4,
 "nbformat_minor": 4
}
