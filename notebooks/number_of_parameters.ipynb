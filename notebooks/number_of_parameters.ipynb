{
 "cells": [
  {
   "cell_type": "code",
   "execution_count": 21,
   "metadata": {},
   "outputs": [
    {
     "name": "stdout",
     "output_type": "stream",
     "text": [
      "The autoreload extension is already loaded. To reload it, use:\n",
      "  %reload_ext autoreload\n"
     ]
    }
   ],
   "source": [
    "%load_ext autoreload\n",
    "%autoreload 2\n",
    "\n",
    "import sys\n",
    "import os\n",
    "import numpy as np\n",
    "\n",
    "sys.path.append('../')\n",
    "from apnet.model import APNet, AttRNNSpeechModel\n",
    "from apnet.layers import PrototypeLayer, WeightedSum\n",
    "\n",
    "from dcase_models.model.models import SB_CNN, MLP\n",
    "from dcase_models.data.features import MelSpectrogram, Openl3\n",
    "from dcase_models.util.files import load_json\n",
    "\n",
    "import keras.backend as K\n",
    "\n",
    "os.environ[\"CUDA_VISIBLE_DEVICES\"] = \"0\""
   ]
  },
  {
   "cell_type": "code",
   "execution_count": 25,
   "metadata": {},
   "outputs": [
    {
     "name": "stdout",
     "output_type": "stream",
     "text": [
      "(50, 32)\n",
      "APNet UrbanSound8k 1.181461\n",
      "(40, 64)\n",
      "APNet MedleySolosDb 4.168081\n",
      "(105, 20)\n",
      "APNet GoogleSpeechCommands 1.750816\n",
      "SB_CNN UrbanSound8k 0.856314\n",
      "SB_CNN MedleySolosDb 1.839224\n",
      "SB_CNN GoogleSpeechCommands 0.169811\n",
      "AttRNNSpeechModel UrbanSound8k 0.224965\n",
      "AttRNNSpeechModel MedleySolosDb 0.290435\n",
      "AttRNNSpeechModel GoogleSpeechCommands 0.201214\n",
      "MLP UrbanSound8k 9.48027\n",
      "MLP MedleySolosDb 9.480012\n",
      "MLP GoogleSpeechCommands 9.483495\n"
     ]
    }
   ],
   "source": [
    "path = '../experiments'\n",
    "models = {'APNet': APNet, 'SB_CNN': SB_CNN,\n",
    "          'AttRNNSpeechModel': AttRNNSpeechModel, 'MLP': MLP}\n",
    "datasets = ['UrbanSound8k', 'MedleySolosDb', 'GoogleSpeechCommands']\n",
    "folds = ['fold1', 'test', 'test']\n",
    "\n",
    "\n",
    "\n",
    "for model_name, model_class in models.items():\n",
    "    for j, dataset_name in enumerate(datasets):\n",
    "        exp_folder = os.path.join(path, dataset_name, model_name)\n",
    "        fold_folder = os.path.join(exp_folder, folds[j])\n",
    "        \n",
    "        params_file = os.path.join(exp_folder, 'config.json')\n",
    "        params = load_json(params_file)\n",
    "        \n",
    "        params_model = params['models'][model_name]\n",
    " \n",
    "        kwargs = {}\n",
    "        if model_name == 'APNet':\n",
    "            kwargs = {\n",
    "                'custom_objects': {\n",
    "                    'PrototypeLayer': PrototypeLayer,\n",
    "                    'WeightedSum': WeightedSum\n",
    "                }\n",
    "            }\n",
    "        model_container = APNet(\n",
    "            model=None, model_path=fold_folder,\n",
    "            #**params_model['model_arguments'],\n",
    "            **kwargs\n",
    "            \n",
    "        )\n",
    "        number_of_parameters = model_container.model.count_params()\n",
    "        if model_name == 'MLP':\n",
    "            features = Openl3(**params['features']['Openl3'])\n",
    "            number_of_parameters += features.openl3.count_params()\n",
    "            \n",
    "        print(model_name, dataset_name, number_of_parameters/1000000)\n",
    "        "
   ]
  }
 ],
 "metadata": {
  "kernelspec": {
   "display_name": "Python 3",
   "language": "python",
   "name": "python3"
  },
  "language_info": {
   "codemirror_mode": {
    "name": "ipython",
    "version": 3
   },
   "file_extension": ".py",
   "mimetype": "text/x-python",
   "name": "python",
   "nbconvert_exporter": "python",
   "pygments_lexer": "ipython3",
   "version": "3.6.10"
  }
 },
 "nbformat": 4,
 "nbformat_minor": 4
}
